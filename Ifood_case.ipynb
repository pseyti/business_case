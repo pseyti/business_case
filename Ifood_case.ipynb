{
  "nbformat": 4,
  "nbformat_minor": 0,
  "metadata": {
    "colab": {
      "name": "Ifood_case.ipynb",
      "provenance": [],
      "collapsed_sections": [],
      "authorship_tag": "ABX9TyPwW640VyuC/wklsInyIB/C",
      "include_colab_link": true
    },
    "kernelspec": {
      "name": "python3",
      "display_name": "Python 3"
    },
    "language_info": {
      "name": "python"
    }
  },
  "cells": [
    {
      "cell_type": "markdown",
      "metadata": {
        "id": "view-in-github",
        "colab_type": "text"
      },
      "source": [
        "<a href=\"https://colab.research.google.com/github/pseyti/business_case/blob/main/Ifood_case.ipynb\" target=\"_parent\"><img src=\"https://colab.research.google.com/assets/colab-badge.svg\" alt=\"Open In Colab\"/></a>"
      ]
    },
    {
      "cell_type": "code",
      "metadata": {
        "colab": {
          "base_uri": "https://localhost:8080/"
        },
        "id": "8WWmhUiS2IX9",
        "outputId": "6698d552-6d81-4757-e78b-7d3afa1bf02f"
      },
      "source": [
        "!pip install -U pandasql"
      ],
      "execution_count": 4,
      "outputs": [
        {
          "output_type": "stream",
          "name": "stdout",
          "text": [
            "Collecting pandasql\n",
            "  Downloading pandasql-0.7.3.tar.gz (26 kB)\n",
            "Requirement already satisfied: numpy in /usr/local/lib/python3.7/dist-packages (from pandasql) (1.19.5)\n",
            "Requirement already satisfied: pandas in /usr/local/lib/python3.7/dist-packages (from pandasql) (1.1.5)\n",
            "Requirement already satisfied: sqlalchemy in /usr/local/lib/python3.7/dist-packages (from pandasql) (1.4.26)\n",
            "Requirement already satisfied: python-dateutil>=2.7.3 in /usr/local/lib/python3.7/dist-packages (from pandas->pandasql) (2.8.2)\n",
            "Requirement already satisfied: pytz>=2017.2 in /usr/local/lib/python3.7/dist-packages (from pandas->pandasql) (2018.9)\n",
            "Requirement already satisfied: six>=1.5 in /usr/local/lib/python3.7/dist-packages (from python-dateutil>=2.7.3->pandas->pandasql) (1.15.0)\n",
            "Requirement already satisfied: greenlet!=0.4.17 in /usr/local/lib/python3.7/dist-packages (from sqlalchemy->pandasql) (1.1.2)\n",
            "Requirement already satisfied: importlib-metadata in /usr/local/lib/python3.7/dist-packages (from sqlalchemy->pandasql) (4.8.2)\n",
            "Requirement already satisfied: typing-extensions>=3.6.4 in /usr/local/lib/python3.7/dist-packages (from importlib-metadata->sqlalchemy->pandasql) (3.10.0.2)\n",
            "Requirement already satisfied: zipp>=0.5 in /usr/local/lib/python3.7/dist-packages (from importlib-metadata->sqlalchemy->pandasql) (3.6.0)\n",
            "Building wheels for collected packages: pandasql\n",
            "  Building wheel for pandasql (setup.py) ... \u001b[?25l\u001b[?25hdone\n",
            "  Created wheel for pandasql: filename=pandasql-0.7.3-py3-none-any.whl size=26781 sha256=849cc76b2e5198cae5eb7ab2f22996af025f8a2f962b091e5fce1c9875c9f5ed\n",
            "  Stored in directory: /root/.cache/pip/wheels/5c/4b/ec/41f4e116c8053c3654e2c2a47c62b4fca34cc67ef7b55deb7f\n",
            "Successfully built pandasql\n",
            "Installing collected packages: pandasql\n",
            "Successfully installed pandasql-0.7.3\n"
          ]
        }
      ]
    },
    {
      "cell_type": "code",
      "metadata": {
        "id": "t8Oxbkw3L4H-"
      },
      "source": [
        "import pandas as pd\n",
        "import seaborn as sns\n",
        "import pandasql as ps\n",
        "from sklearn.svm import LinearSVC"
      ],
      "execution_count": 8,
      "outputs": []
    },
    {
      "cell_type": "code",
      "metadata": {
        "id": "hwtqd6AezkNJ"
      },
      "source": [
        "uri = 'https://raw.githubusercontent.com/ifood/ifood-data-business-analyst-test/master/ml_project1_data.csv'\n",
        "base = pd.read_csv(uri) "
      ],
      "execution_count": 22,
      "outputs": []
    },
    {
      "cell_type": "code",
      "metadata": {
        "colab": {
          "base_uri": "https://localhost:8080/"
        },
        "id": "POEVIovdX8uS",
        "outputId": "5944a127-7226-4213-f753-569f4ad3730a"
      },
      "source": [
        "# adding columns in order to build charts for customer segmentation #\n",
        "\n",
        "q1 = \"\"\"select base.*\n",
        ", 2021-Year_Birth as age\n",
        ", case when response=1 then 'True' else 'False' end as campaign_label \n",
        ", case when 2021-Year_Birth <=20 then '<=20'\n",
        "     when 2021-Year_Birth between 21 and 40 then '20 - 40' \n",
        "     when 2021-Year_Birth between 41 and 60 then '40-60'\n",
        "else '>60' end as age_label\n",
        ", case when income between 1 and 10000 then '1- 10k'\n",
        "       when income between 10001 and 20000 then '10k- 20kk'\n",
        "       when income between 20001 and 30000 then '20k- 30k'\n",
        "       when income between 30001 and 40000 then '30k- 40k'\n",
        "       when income between 40001 and 50000 then '40k- 50k'\n",
        "       when income between 50001 and 60000 then '50k- 60k'\n",
        "       when income between 60001 and 70000 then '60k- 70k'\n",
        "       when income between 70001 and 80000 then '70k- 80k'\n",
        "       when income between 80001 and 90000 then '80k- 90k'\n",
        "       when income between 90001 and 100000 then '90- 100k'\n",
        "       else 'above 100k'\n",
        "  end as income_label\n",
        "\n",
        "from base \"\"\"\n",
        "\n",
        "print(ps.sqldf(q1, locals()))"
      ],
      "execution_count": 36,
      "outputs": [
        {
          "output_type": "stream",
          "name": "stdout",
          "text": [
            "         ID  Year_Birth   Education  ... campaign_label  age_label  income_label\n",
            "0      5524        1957  Graduation  ...           True        >60      50k- 60k\n",
            "1      2174        1954  Graduation  ...          False        >60      40k- 50k\n",
            "2      4141        1965  Graduation  ...          False      40-60      70k- 80k\n",
            "3      6182        1984  Graduation  ...          False    20 - 40      20k- 30k\n",
            "4      5324        1981         PhD  ...          False    20 - 40      50k- 60k\n",
            "...     ...         ...         ...  ...            ...        ...           ...\n",
            "2235  10870        1967  Graduation  ...          False      40-60      60k- 70k\n",
            "2236   4001        1946         PhD  ...          False        >60      60k- 70k\n",
            "2237   7270        1981  Graduation  ...          False    20 - 40      50k- 60k\n",
            "2238   8235        1956      Master  ...          False        >60      60k- 70k\n",
            "2239   9405        1954         PhD  ...           True        >60      50k- 60k\n",
            "\n",
            "[2240 rows x 33 columns]\n"
          ]
        }
      ]
    },
    {
      "cell_type": "code",
      "metadata": {
        "colab": {
          "base_uri": "https://localhost:8080/",
          "height": 178
        },
        "id": "9_bT7ajMDODG",
        "outputId": "65586ef7-f2e3-47b1-9172-d5684896dc66"
      },
      "source": [
        "excel_base = pd.DataFrame(ps.sqldf(q1, locals()))\n",
        "excel_base.to_csv()"
      ],
      "execution_count": 1,
      "outputs": [
        {
          "output_type": "error",
          "ename": "NameError",
          "evalue": "ignored",
          "traceback": [
            "\u001b[0;31m---------------------------------------------------------------------------\u001b[0m",
            "\u001b[0;31mNameError\u001b[0m                                 Traceback (most recent call last)",
            "\u001b[0;32m<ipython-input-1-cd8293b8bac6>\u001b[0m in \u001b[0;36m<module>\u001b[0;34m()\u001b[0m\n\u001b[0;32m----> 1\u001b[0;31m \u001b[0mexcel_base\u001b[0m \u001b[0;34m=\u001b[0m \u001b[0mpd\u001b[0m\u001b[0;34m.\u001b[0m\u001b[0mDataFrame\u001b[0m\u001b[0;34m(\u001b[0m\u001b[0mps\u001b[0m\u001b[0;34m.\u001b[0m\u001b[0msqldf\u001b[0m\u001b[0;34m(\u001b[0m\u001b[0mq1\u001b[0m\u001b[0;34m,\u001b[0m \u001b[0mlocals\u001b[0m\u001b[0;34m(\u001b[0m\u001b[0;34m)\u001b[0m\u001b[0;34m)\u001b[0m\u001b[0;34m)\u001b[0m\u001b[0;34m\u001b[0m\u001b[0;34m\u001b[0m\u001b[0m\n\u001b[0m\u001b[1;32m      2\u001b[0m \u001b[0mexcel_base\u001b[0m\u001b[0;34m.\u001b[0m\u001b[0mto_csv\u001b[0m\u001b[0;34m(\u001b[0m\u001b[0;34m)\u001b[0m\u001b[0;34m\u001b[0m\u001b[0;34m\u001b[0m\u001b[0m\n",
            "\u001b[0;31mNameError\u001b[0m: name 'pd' is not defined"
          ]
        }
      ]
    }
  ]
}